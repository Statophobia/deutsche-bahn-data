{
 "cells": [
  {
   "cell_type": "code",
   "execution_count": 72,
   "metadata": {},
   "outputs": [],
   "source": [
    "import pandas as pd"
   ]
  },
  {
   "cell_type": "code",
   "execution_count": 73,
   "metadata": {},
   "outputs": [],
   "source": [
    "# Ich will gucken welche Züge von Dortmund nach Düsseldorf am wenigsten verspätung haben\n",
    "# 1. Alle Züge welche von Dortmund nach Düsseldorf fahren\n",
    "# 2. groupby \n"
   ]
  },
  {
   "cell_type": "code",
   "execution_count": 99,
   "metadata": {},
   "outputs": [],
   "source": [
    "df = pd.read_csv(\"data.csv\", converters={\n",
    "    'arrival_time_delta': pd.to_timedelta,\n",
    "    'departure_time_delta': pd.to_timedelta\n",
    "})\n",
    "#df.head()"
   ]
  },
  {
   "cell_type": "code",
   "execution_count": 98,
   "metadata": {},
   "outputs": [
    {
     "data": {
      "text/html": [
       "<div>\n",
       "<style scoped>\n",
       "    .dataframe tbody tr th:only-of-type {\n",
       "        vertical-align: middle;\n",
       "    }\n",
       "\n",
       "    .dataframe tbody tr th {\n",
       "        vertical-align: top;\n",
       "    }\n",
       "\n",
       "    .dataframe thead th {\n",
       "        text-align: right;\n",
       "    }\n",
       "</style>\n",
       "<table border=\"1\" class=\"dataframe\">\n",
       "  <thead>\n",
       "    <tr style=\"text-align: right;\">\n",
       "      <th></th>\n",
       "      <th>train_name</th>\n",
       "      <th>arrival_time_delta</th>\n",
       "    </tr>\n",
       "  </thead>\n",
       "  <tbody>\n",
       "    <tr>\n",
       "      <th>0</th>\n",
       "      <td>RE 1</td>\n",
       "      <td>14.0</td>\n",
       "    </tr>\n",
       "    <tr>\n",
       "      <th>1</th>\n",
       "      <td>RE 4</td>\n",
       "      <td>4.5</td>\n",
       "    </tr>\n",
       "    <tr>\n",
       "      <th>2</th>\n",
       "      <td>RE 6</td>\n",
       "      <td>17.5</td>\n",
       "    </tr>\n",
       "  </tbody>\n",
       "</table>\n",
       "</div>"
      ],
      "text/plain": [
       "  train_name  arrival_time_delta\n",
       "0       RE 1                14.0\n",
       "1       RE 4                 4.5\n",
       "2       RE 6                17.5"
      ]
     },
     "execution_count": 98,
     "metadata": {},
     "output_type": "execute_result"
    }
   ],
   "source": [
    "#print(df[\"train_type\"].unique())\n",
    "df_local = df[df[\"train_type\"].isin([\"RE\", \"RB\"])]\n",
    "train_in_dortmund = df_local[df_local[\"station\"] == \"Dortmund Hbf\"]\n",
    "train_in_duesseldorf = df_local[df_local[\"station\"] == \"Düsseldorf Hbf\"]\n",
    "\n",
    "# Merge/join the two DataFrames on 'train_line_id' to compare 'train_line_station_num'\n",
    "merged_df = train_in_duesseldorf.merge(\n",
    "    train_in_dortmund[['train_line_id', 'train_line_station_num']],\n",
    "    on='train_line_id',\n",
    "    suffixes=('_duesseldorf', '_dortmund')\n",
    ")\n",
    "\n",
    "# Filter the merged DataFrame based on the comparison of 'train_line_station_num'\n",
    "filtered_df = merged_df[merged_df['train_line_station_num_duesseldorf'] > merged_df['train_line_station_num_dortmund']]\n",
    "\n",
    "mean_arrival_time_delta = filtered_df.groupby(\"train_name\")[\"arrival_time_delta\"].median()\n",
    "mean_arrival_time_delta_minutes = mean_arrival_time_delta / pd.Timedelta(minutes=1)\n",
    "mean_arrival_time_delta_minutes.reset_index()"
   ]
  },
  {
   "cell_type": "code",
   "execution_count": null,
   "metadata": {},
   "outputs": [],
   "source": []
  }
 ],
 "metadata": {
  "kernelspec": {
   "display_name": "Python 3",
   "language": "python",
   "name": "python3"
  },
  "language_info": {
   "codemirror_mode": {
    "name": "ipython",
    "version": 3
   },
   "file_extension": ".py",
   "mimetype": "text/x-python",
   "name": "python",
   "nbconvert_exporter": "python",
   "pygments_lexer": "ipython3",
   "version": "3.10.12"
  }
 },
 "nbformat": 4,
 "nbformat_minor": 2
}
